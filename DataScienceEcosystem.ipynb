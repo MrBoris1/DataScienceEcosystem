{
 "cells": [
  {
   "cell_type": "markdown",
   "id": "729ea39e-5954-447e-b93e-92f6d544f4db",
   "metadata": {},
   "source": [
    "# Data Science Tools and Ecosystem"
   ]
  },
  {
   "cell_type": "markdown",
   "id": "1383da06-7d8c-402c-b8b9-c89f3853307c",
   "metadata": {},
   "source": [
    "In this notebook, Data Science Tools and Ecosystem are summarized."
   ]
  },
  {
   "cell_type": "markdown",
   "id": "eddc44d2-dddd-4f51-acd5-202c02019a19",
   "metadata": {},
   "source": [
    "**Objectives:**\n",
    "\n",
    "- List popular languages for Data Science.\n",
    "- Identify commonly used Data Science libraries.\n",
    "- Describe the functionality of different development environments.\n",
    "- Demonstrate basic arithmetic operations in Python.\n",
    "- Summarize the Data Science ecosystem.\n"
   ]
  },
  {
   "cell_type": "markdown",
   "id": "cdb36448-f455-46c7-b7c6-1449f6c7ecb8",
   "metadata": {},
   "source": [
    "Some of the popular languages that Data Scientists use are:\n",
    "1. Python\n",
    "2. R\n",
    "3. SQL"
   ]
  },
  {
   "cell_type": "markdown",
   "id": "534cae81-25c1-4050-bd92-1e7f8918c208",
   "metadata": {},
   "source": [
    "Some of the commonly used libraries used by Data Scientists include:\n",
    "1. Pandas\n",
    "2. NumPy\n",
    "3. Matplotlib"
   ]
  },
  {
   "cell_type": "markdown",
   "id": "f9826d79-50fb-4020-b398-93c610be53dc",
   "metadata": {},
   "source": [
    "| Data Science Tools |\n",
    "|--------------------|\n",
    "| Jupyter Notebooks  |\n",
    "| RStudio            |\n",
    "| Apache Zeppelin    |\n",
    "\n"
   ]
  },
  {
   "cell_type": "markdown",
   "id": "4e65959d-2972-4ded-a69e-2b123fe14e94",
   "metadata": {},
   "source": [
    "### Below are a few examples of evaluating arithmetic expressions in Python\n"
   ]
  },
  {
   "cell_type": "code",
   "execution_count": 5,
   "id": "5b70152d-644e-4203-9f8d-ecca243d5106",
   "metadata": {
    "tags": []
   },
   "outputs": [
    {
     "data": {
      "text/plain": [
       "17"
      ]
     },
     "execution_count": 5,
     "metadata": {},
     "output_type": "execute_result"
    }
   ],
   "source": [
    "#This a simple arithmetic expression to mutiply then add integers\n",
    "(3*4)+5"
   ]
  },
  {
   "cell_type": "code",
   "execution_count": 6,
   "id": "f7f3bc19-107c-4a45-a674-8ca2db94d39e",
   "metadata": {
    "tags": []
   },
   "outputs": [
    {
     "data": {
      "text/plain": [
       "3.3333333333333335"
      ]
     },
     "execution_count": 6,
     "metadata": {},
     "output_type": "execute_result"
    }
   ],
   "source": [
    "# This will convert 200 minutes to hours by dividing by 60\n",
    "200 / 60"
   ]
  },
  {
   "cell_type": "markdown",
   "id": "17610002-b912-4881-84e5-b39a82fce6d9",
   "metadata": {
    "tags": []
   },
   "source": [
    "## Author\n",
    "Baris Turgay"
   ]
  },
  {
   "cell_type": "code",
   "execution_count": null,
   "id": "2dce3889-a0c6-481a-b425-fa817ebc5005",
   "metadata": {},
   "outputs": [],
   "source": []
  }
 ],
 "metadata": {
  "kernelspec": {
   "display_name": "Python",
   "language": "python",
   "name": "conda-env-python-py"
  },
  "language_info": {
   "codemirror_mode": {
    "name": "ipython",
    "version": 3
   },
   "file_extension": ".py",
   "mimetype": "text/x-python",
   "name": "python",
   "nbconvert_exporter": "python",
   "pygments_lexer": "ipython3",
   "version": "3.7.12"
  }
 },
 "nbformat": 4,
 "nbformat_minor": 5
}
